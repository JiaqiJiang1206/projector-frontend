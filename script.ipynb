{
 "cells": [
  {
   "cell_type": "code",
   "execution_count": 2,
   "metadata": {},
   "outputs": [
    {
     "data": {
      "text/plain": [
       "['065.svg',\n",
       " '064.svg',\n",
       " '.DS_Store',\n",
       " '063.svg',\n",
       " '062.svg',\n",
       " '061.svg',\n",
       " '012.svg',\n",
       " '013.svg',\n",
       " '011.svg',\n",
       " '005.svg',\n",
       " '004.svg',\n",
       " '014.svg',\n",
       " '001.svg',\n",
       " '015.svg',\n",
       " '003.svg',\n",
       " '002.svg',\n",
       " '033.svg',\n",
       " '032.svg',\n",
       " '024.svg',\n",
       " '025.svg',\n",
       " '031.svg',\n",
       " '035.svg',\n",
       " '021.svg',\n",
       " '034.svg',\n",
       " '022.svg',\n",
       " '023.svg',\n",
       " '044.svg',\n",
       " '051.svg',\n",
       " '045.svg',\n",
       " '053.svg',\n",
       " '052.svg',\n",
       " '042.svg',\n",
       " '043.svg',\n",
       " '041.svg',\n",
       " '055.svg',\n",
       " '054.svg']"
      ]
     },
     "execution_count": 2,
     "metadata": {},
     "output_type": "execute_result"
    }
   ],
   "source": [
    "import os\n",
    "\n",
    "# 获取public/img/emoji目录中的所有文件名\n",
    "emoji_files = os.listdir('public/img/emoji')\n",
    "\n",
    "# 输出文件名列表\n",
    "emoji_files"
   ]
  }
 ],
 "metadata": {
  "kernelspec": {
   "display_name": "Python 3",
   "language": "python",
   "name": "python3"
  },
  "language_info": {
   "codemirror_mode": {
    "name": "ipython",
    "version": 3
   },
   "file_extension": ".py",
   "mimetype": "text/x-python",
   "name": "python",
   "nbconvert_exporter": "python",
   "pygments_lexer": "ipython3",
   "version": "3.9.6"
  }
 },
 "nbformat": 4,
 "nbformat_minor": 2
}
