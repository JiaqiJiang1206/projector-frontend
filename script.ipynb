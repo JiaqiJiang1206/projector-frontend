{
 "cells": [
  {
   "cell_type": "code",
   "execution_count": 2,
   "metadata": {},
   "outputs": [
    {
     "data": {
      "text/plain": [
       "['052.gif',\n",
       " '053.gif',\n",
       " '092.gif',\n",
       " '101.svg',\n",
       " '023.gif',\n",
       " '022.gif',\n",
       " '011.svg',\n",
       " '025.gif',\n",
       " '024.gif',\n",
       " '026.gif',\n",
       " '016.svg',\n",
       " '002.svg',\n",
       " '027.gif',\n",
       " '003.gif',\n",
       " '029.gif',\n",
       " '001.gif',\n",
       " '015.gif',\n",
       " '014.gif',\n",
       " '028.gif',\n",
       " '004.gif',\n",
       " '021.svg',\n",
       " '005.gif',\n",
       " '013.gif',\n",
       " '012.gif',\n",
       " '061.gif',\n",
       " '051.svg',\n",
       " '062.gif',\n",
       " '091.svg',\n",
       " '063.gif',\n",
       " '113.gif',\n",
       " '073.gif',\n",
       " '081.svg',\n",
       " '072.gif',\n",
       " '112.gif',\n",
       " '041.svg',\n",
       " '065.gif',\n",
       " '071.gif',\n",
       " '111.gif']"
      ]
     },
     "execution_count": 2,
     "metadata": {},
     "output_type": "execute_result"
    }
   ],
   "source": [
    "import os\n",
    "\n",
    "# 获取public/img/emoji目录中的所有文件名\n",
    "emoji_files = os.listdir('public/img/emoji')\n",
    "\n",
    "# 输出文件名列表\n",
    "emoji_files"
   ]
  }
 ],
 "metadata": {
  "kernelspec": {
   "display_name": "Python 3",
   "language": "python",
   "name": "python3"
  },
  "language_info": {
   "codemirror_mode": {
    "name": "ipython",
    "version": 3
   },
   "file_extension": ".py",
   "mimetype": "text/x-python",
   "name": "python",
   "nbconvert_exporter": "python",
   "pygments_lexer": "ipython3",
   "version": "3.9.6"
  }
 },
 "nbformat": 4,
 "nbformat_minor": 2
}
